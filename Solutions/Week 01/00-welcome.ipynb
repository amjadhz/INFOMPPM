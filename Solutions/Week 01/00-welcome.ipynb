{
 "cells": [
  {
   "attachments": {},
   "cell_type": "markdown",
   "metadata": {},
   "source": [
    "# 👋 Welcome to the first INFOMPPM seminar 👋\n",
    "\n",
    "During the seminar session, we'll begin by exploring how public values are intertwined with recommender systems. You'll need to consider the type of data required to develop a recommender system, along with the potential opportunities and risks these systems pose to different values. Next, we will delve into the basics of creating a recommender system in Python, covering:\n",
    "\n",
    "1. Non-personalized recommendations (including ratings, seeding, confidence, and support)\n",
    "2. Implicit ratings\n",
    "3. Using Streamlit\n",
    "\n",
    "The activities are designed to test your understanding of the readings, help you get your codebook operational, extract features from existing data, and engage with core concepts.\n",
    "\n",
    "\n",
    "### Dataset\n",
    "The dataset you for this assignment will be the [Book-Crossing Dataset](http://www2.informatik.uni-freiburg.de/~cziegler/BX/) mined by [Cai-Nicolas Ziegler](http://dbis.informatik.uni-freiburg.de/team/ziegler/cai). \n",
    "\n",
    "The dataset:\n",
    "> ... a 4-week crawl (August / September 2004) from the Book-Crossing community with kind permission from Ron Hornbaker, CTO of Humankind Systems. Contains 278,858 users (anonymized but with demographic information) providing 1,149,780 ratings (explicit / implicit) about 271,379 books.\n",
    "\n",
    "Although the dataset may seem outdated, it serves as an excellent starting point and presents several challenges."
   ]
  }
 ],
 "metadata": {
  "kernelspec": {
   "display_name": "Python 3",
   "language": "python",
   "name": "python3"
  },
  "language_info": {
   "name": "python",
   "version": "3.8.0"
  },
  "orig_nbformat": 4,
  "vscode": {
   "interpreter": {
    "hash": "37c10f95d263926787ebf1d430d11186fc6b9bac835b8518e0b5006ed24f0c36"
   }
  }
 },
 "nbformat": 4,
 "nbformat_minor": 2
}
