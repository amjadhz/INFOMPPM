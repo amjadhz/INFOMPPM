{
 "cells": [
  {
   "attachments": {},
   "cell_type": "markdown",
   "metadata": {},
   "source": [
    "# 🔬 Data exploration and preparation\n",
    "In this notebook, we'll examine the dataset and create a subset of it for further analysis. The dataset was relatively clean when downloaded, though we addressed some problematic delimiter issues for you. If you're interested in tackling these issues firsthand, the original dataset is available at the [Book-Crossing Dataset](http://www2.informatik.uni-freiburg.de/~cziegler/BX/)."
   ]
  },
  {
   "cell_type": "markdown",
   "metadata": {},
   "source": [
    "### 1. Loading the data\n",
    "Load the three datasets and explore the data.\n"
   ]
  },
  {
   "cell_type": "code",
   "execution_count": 1,
   "metadata": {},
   "outputs": [],
   "source": [
    "import pandas as pd\n",
    "\n",
    "df_books_ratings = pd.read_csv('data/BX-Book-Ratings.csv', sep=';', encoding='latin-1')\n",
    "df_books = pd.read_csv('data/BX-Books.csv', low_memory=False, sep=';', encoding='latin-1')\n",
    "df_users = pd.read_csv('data/BX-Users.csv', low_memory=False, sep=';', encoding='latin-1')"
   ]
  },
  {
   "attachments": {},
   "cell_type": "markdown",
   "metadata": {},
   "source": [
    "### 2. Cleaning the data\n",
    "Ensure that all reviews are linked to a book. Investigate whether there are any reviews that lack a corresponding book or user. Verify the accuracy of author names and identify any anomalies, such as users who have submitted an unusually high number of reviews. Describe the process you followed to clean the data."
   ]
  },
  {
   "cell_type": "code",
   "execution_count": null,
   "metadata": {},
   "outputs": [],
   "source": [
    "# while we have found many errors and inconsistencies we did not provide code for further cleaning\n",
    "# this was step to make you gain more insights into the data"
   ]
  },
  {
   "cell_type": "markdown",
   "metadata": {},
   "source": [
    "### 3. Subsetting the data\n",
    "The publication accompanied with this dataset [Improving Recommendation Lists Through Topic Diversification](http://www2.informatik.uni-freiburg.de/~cziegler/BX/WWW-2005-Preprint.pdf) by Cai-Nicolas Ziegler, Sean M. McNee, Joseph A. Konstan, Georg Lausen; describes the process of subsetting (condensation steps) the dataset as follows (p5): \n",
    "\n",
    "> Hence, we discarded all books missing taxonomic descriptions, along with all ratings referring to them. Next, we also removed book titles with fewer than 20 overall mentions. Only community members with at least five ratings each were kept. \n",
    "\n",
    "Investigate the significance of these parameters for the dataset as a whole. Additionally, decide whether to include implicit ratings (where Book-Rating equals 0) in your final dataset. Consider the potential consequences of this choice. Would you opt to exclude them prior to assessing other parameters, or would it be more appropriate to exclude them later?\n",
    "\n",
    "Although the publication outlines the expected dimensions of the resulting dataset, it's acceptable if your findings vary at this stage."
   ]
  },
  {
   "cell_type": "code",
   "execution_count": 2,
   "metadata": {},
   "outputs": [
    {
     "data": {
      "text/plain": [
       "(41337, 3)"
      ]
     },
     "execution_count": 2,
     "metadata": {},
     "output_type": "execute_result"
    }
   ],
   "source": [
    "df = df_books_ratings\n",
    "\n",
    "# this combination worked pretty well \n",
    "df = df[df['Book-Rating'] != 0]\n",
    "\n",
    "x = df['ISBN'].value_counts() >= 20\n",
    "idx = x[x].index\n",
    "ratings = df[df['ISBN'].isin(idx)]\n",
    "\n",
    "x = ratings['User-ID'].value_counts() >= 10\n",
    "idx = x[x].index\n",
    "df_book_ratings_final = ratings[ratings['User-ID'].isin(idx)]\n",
    "df_book_ratings_final.shape"
   ]
  },
  {
   "cell_type": "markdown",
   "metadata": {},
   "source": [
    "### 4. Extra step\n",
    "Examine the `BX-Books.csv` file specifically for the book Robots and _Empire by Isaac Asimov_. Identify any issues you come across. Would you address these issues?\n",
    "\n",
    "Given that this could pose a problem for our dataset, consider how you would resolve it. You may need to revisit step 2 if you decide to undertake this additional step."
   ]
  },
  {
   "cell_type": "code",
   "execution_count": 3,
   "metadata": {},
   "outputs": [
    {
     "data": {
      "text/html": [
       "<div>\n",
       "<style scoped>\n",
       "    .dataframe tbody tr th:only-of-type {\n",
       "        vertical-align: middle;\n",
       "    }\n",
       "\n",
       "    .dataframe tbody tr th {\n",
       "        vertical-align: top;\n",
       "    }\n",
       "\n",
       "    .dataframe thead th {\n",
       "        text-align: right;\n",
       "    }\n",
       "</style>\n",
       "<table border=\"1\" class=\"dataframe\">\n",
       "  <thead>\n",
       "    <tr style=\"text-align: right;\">\n",
       "      <th></th>\n",
       "      <th>ISBN</th>\n",
       "      <th>Book-Title</th>\n",
       "      <th>Book-Author</th>\n",
       "      <th>Year-Of-Publication</th>\n",
       "      <th>Publisher</th>\n",
       "      <th>Image-URL-S</th>\n",
       "      <th>Image-URL-M</th>\n",
       "      <th>Image-URL-L</th>\n",
       "    </tr>\n",
       "  </thead>\n",
       "  <tbody>\n",
       "    <tr>\n",
       "      <th>19463</th>\n",
       "      <td>0586062009</td>\n",
       "      <td>Robots and Empire</td>\n",
       "      <td>Isaac Asimov</td>\n",
       "      <td>1986</td>\n",
       "      <td>HarperCollins</td>\n",
       "      <td>http://images.amazon.com/images/P/0586062009.0...</td>\n",
       "      <td>http://images.amazon.com/images/P/0586062009.0...</td>\n",
       "      <td>http://images.amazon.com/images/P/0586062009.0...</td>\n",
       "    </tr>\n",
       "    <tr>\n",
       "      <th>83090</th>\n",
       "      <td>0345328949</td>\n",
       "      <td>Robots and Empire</td>\n",
       "      <td>Isaac Asimov</td>\n",
       "      <td>1991</td>\n",
       "      <td>Del Rey Books</td>\n",
       "      <td>http://images.amazon.com/images/P/0345328949.0...</td>\n",
       "      <td>http://images.amazon.com/images/P/0345328949.0...</td>\n",
       "      <td>http://images.amazon.com/images/P/0345328949.0...</td>\n",
       "    </tr>\n",
       "    <tr>\n",
       "      <th>136152</th>\n",
       "      <td>0385190921</td>\n",
       "      <td>Robots and Empire</td>\n",
       "      <td>Isaac Asimov</td>\n",
       "      <td>1985</td>\n",
       "      <td>Smithmark Pub</td>\n",
       "      <td>http://images.amazon.com/images/P/0385190921.0...</td>\n",
       "      <td>http://images.amazon.com/images/P/0385190921.0...</td>\n",
       "      <td>http://images.amazon.com/images/P/0385190921.0...</td>\n",
       "    </tr>\n",
       "  </tbody>\n",
       "</table>\n",
       "</div>"
      ],
      "text/plain": [
       "              ISBN         Book-Title   Book-Author Year-Of-Publication  \\\n",
       "19463   0586062009  Robots and Empire  Isaac Asimov                1986   \n",
       "83090   0345328949  Robots and Empire  Isaac Asimov                1991   \n",
       "136152  0385190921  Robots and Empire  Isaac Asimov                1985   \n",
       "\n",
       "            Publisher                                        Image-URL-S  \\\n",
       "19463   HarperCollins  http://images.amazon.com/images/P/0586062009.0...   \n",
       "83090   Del Rey Books  http://images.amazon.com/images/P/0345328949.0...   \n",
       "136152  Smithmark Pub  http://images.amazon.com/images/P/0385190921.0...   \n",
       "\n",
       "                                              Image-URL-M  \\\n",
       "19463   http://images.amazon.com/images/P/0586062009.0...   \n",
       "83090   http://images.amazon.com/images/P/0345328949.0...   \n",
       "136152  http://images.amazon.com/images/P/0385190921.0...   \n",
       "\n",
       "                                              Image-URL-L  \n",
       "19463   http://images.amazon.com/images/P/0586062009.0...  \n",
       "83090   http://images.amazon.com/images/P/0345328949.0...  \n",
       "136152  http://images.amazon.com/images/P/0385190921.0...  "
      ]
     },
     "execution_count": 3,
     "metadata": {},
     "output_type": "execute_result"
    }
   ],
   "source": [
    "df_books[df_books['Book-Title'] == 'Robots and Empire']"
   ]
  },
  {
   "cell_type": "markdown",
   "metadata": {},
   "source": [
    "### 5. Save the new dataset(s)\n",
    "Save the dataset(s) in distinct named CSV-files for later usage. Move the file(s) to the data directory.\n"
   ]
  },
  {
   "cell_type": "code",
   "execution_count": 4,
   "metadata": {},
   "outputs": [],
   "source": [
    "df_book_ratings_final.to_csv('BX-Book-Ratings-Subset.csv', index=False, sep=';')"
   ]
  }
 ],
 "metadata": {
  "interpreter": {
   "hash": "37c10f95d263926787ebf1d430d11186fc6b9bac835b8518e0b5006ed24f0c36"
  },
  "kernelspec": {
   "display_name": "Python 3.8.0 64-bit",
   "language": "python",
   "name": "python3"
  },
  "language_info": {
   "codemirror_mode": {
    "name": "ipython",
    "version": 3
   },
   "file_extension": ".py",
   "mimetype": "text/x-python",
   "name": "python",
   "nbconvert_exporter": "python",
   "pygments_lexer": "ipython3",
   "version": "3.12.1"
  },
  "orig_nbformat": 4
 },
 "nbformat": 4,
 "nbformat_minor": 2
}
