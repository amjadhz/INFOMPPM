{
 "cells": [
  {
   "attachments": {},
   "cell_type": "markdown",
   "metadata": {},
   "source": [
    "# 📚 Recommendations based on most reviewed books\n",
    "You will start by generating recommendations based on the most reviewed books. Although this approach is not personalized, it remains widely used and provides an opportunity to familiarize yourself with the Streamlit app located in the app directory."
   ]
  },
  {
   "cell_type": "markdown",
   "metadata": {},
   "source": [
    "### 1. Calculate the total reviews per book"
   ]
  },
  {
   "cell_type": "code",
   "execution_count": 2,
   "metadata": {},
   "outputs": [],
   "source": [
    "import pandas as pd\n",
    "df = pd.read_csv('data/BX-Book-Ratings-Subset.csv', sep=';', encoding='latin-1')\n",
    "df = df.groupby(['ISBN'])['Book-Rating'].agg(['count']).reset_index()\n",
    "df = df.sort_values(by=\"count\", ascending=False).head(10)"
   ]
  },
  {
   "cell_type": "markdown",
   "metadata": {},
   "source": [
    "### 2. Save the recommendations\n",
    "\n",
    "Select the top 10 books based on the number of reviews. Save these recommendations in a file named `recommendations-most-reviewed.csv`. Then, update the `app/recommendations` directory by replacing the existing recommendations file with this new one. The current recommendations in the app require significant improvements. Ensure the file includes the following columns: `ISBN;count`."
   ]
  },
  {
   "cell_type": "code",
   "execution_count": 3,
   "metadata": {},
   "outputs": [],
   "source": [
    "df.to_csv('recommendations-most-reviewed.csv', index=False, sep=';')"
   ]
  },
  {
   "cell_type": "markdown",
   "metadata": {},
   "source": [
    "### 3. Run the Streamlit app\n",
    "This might be your first experience running a Streamlit app. We've supplied you with boilerplate code to view your recommendations through a functional interface. As you progress, you may want to adjust some buttons or include additional metadata. Therefore, it's beneficial to familiarize yourself with the [Streamlit documentation](https://docs.streamlit.io/library/api-reference). For aspiring data scientists, the ability to create quick proofs-of-concept is essential.\n",
    "\n",
    "1. Install Streamlit\n",
    "2. Go to the terminal, navigate to the `app` folder and type `streamlit run app.py`"
   ]
  }
 ],
 "metadata": {
  "interpreter": {
   "hash": "37c10f95d263926787ebf1d430d11186fc6b9bac835b8518e0b5006ed24f0c36"
  },
  "kernelspec": {
   "display_name": "Python 3.8.0 64-bit",
   "language": "python",
   "name": "python3"
  },
  "language_info": {
   "codemirror_mode": {
    "name": "ipython",
    "version": 3
   },
   "file_extension": ".py",
   "mimetype": "text/x-python",
   "name": "python",
   "nbconvert_exporter": "python",
   "pygments_lexer": "ipython3",
   "version": "3.12.1"
  },
  "orig_nbformat": 4
 },
 "nbformat": 4,
 "nbformat_minor": 2
}
