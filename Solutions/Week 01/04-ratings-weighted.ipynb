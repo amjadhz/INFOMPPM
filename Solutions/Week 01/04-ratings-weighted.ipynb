{
 "cells": [
  {
   "attachments": {},
   "cell_type": "markdown",
   "metadata": {},
   "source": [
    "# 📚 Recommendations based on weighted ratings\n",
    "Considering the drawbacks of using average ratings, you will now develop recommendations based on the weighted average for each book. Refer to the article [Building a Recommendation System using weighted-average score](https://medium.com/@developeraritro/building-a-recommendation-system-using-weighted-hybrid-technique-75598b6be8ed) to understand and apply this concept.\n"
   ]
  },
  {
   "cell_type": "markdown",
   "metadata": {},
   "source": [
    "### 1. Calculate Weightage Average for Individual books average rating\n",
    "Determine the mean vote value (C) for the entire dataset.\n"
   ]
  },
  {
   "cell_type": "code",
   "execution_count": 1,
   "metadata": {},
   "outputs": [],
   "source": [
    "import pandas as pd\n",
    "\n",
    "df = pd.read_csv('data/BX-Book-Ratings-Subset.csv', sep=';', encoding='latin-1')\n",
    "df = df.groupby(['ISBN'])['Book-Rating'].agg(['mean', 'count']).reset_index()\n",
    "\n",
    "# C is the mean vote across the whole report\n",
    "C = df['mean'].mean()\n",
    "\n",
    "# m is the minimum votes required to be listed in the chart;\n",
    "m = df['count'].quantile(0.99)\n",
    "\n",
    "# filter out all qualified movies into a new DataFrame\n",
    "df = df.loc[df['count'] >= m]\n",
    "\n",
    "def weighted_rating(x, m=m, C=C):\n",
    "  v = x['count']\n",
    "  R = x['mean']\n",
    "  return (v/(v+m) * R) + (m/(m+v) * C)\n",
    "\n",
    "df['weight'] = df.apply(weighted_rating, axis=1)\n",
    "\n",
    "df = df.sort_values('weight', ascending=False).head(10)\n",
    "df = df[['ISBN', 'weight']]"
   ]
  },
  {
   "cell_type": "markdown",
   "metadata": {},
   "source": [
    "### 2. Save the recommendations\n",
    "Choose the top 10 books based on their weighted ratings and save these recommendations as `recommendations-ratings-weight.csv`. Then, update the app directory by replacing the existing file. Ensure the file includes the columns: `ISBN;weight`."
   ]
  },
  {
   "cell_type": "code",
   "execution_count": 2,
   "metadata": {},
   "outputs": [],
   "source": [
    "df.to_csv('recommendations-ratings-weight.csv', index=False, sep=';')"
   ]
  },
  {
   "cell_type": "markdown",
   "metadata": {},
   "source": [
    "### 3. Compare recommendations based on average rating and weighted ratings\n",
    "Review the interface to note any significant differences with this method."
   ]
  }
 ],
 "metadata": {
  "interpreter": {
   "hash": "37c10f95d263926787ebf1d430d11186fc6b9bac835b8518e0b5006ed24f0c36"
  },
  "kernelspec": {
   "display_name": "Python 3.8.0 64-bit",
   "language": "python",
   "name": "python3"
  },
  "language_info": {
   "codemirror_mode": {
    "name": "ipython",
    "version": 3
   },
   "file_extension": ".py",
   "mimetype": "text/x-python",
   "name": "python",
   "nbconvert_exporter": "python",
   "pygments_lexer": "ipython3",
   "version": "3.12.1"
  },
  "orig_nbformat": 4
 },
 "nbformat": 4,
 "nbformat_minor": 2
}
