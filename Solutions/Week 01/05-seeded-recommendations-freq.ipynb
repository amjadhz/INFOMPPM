{
 "cells": [
  {
   "attachments": {},
   "cell_type": "markdown",
   "metadata": {},
   "source": [
    "# 📚 Recommendations based on Frequently Reviewed Together (frequency)\n",
    "Use the `permutations` function from `itertools` to create combinations of books that are frequently reviewed together. "
   ]
  },
  {
   "cell_type": "markdown",
   "metadata": {},
   "source": [
    "### 1. Quick introduction to permutations"
   ]
  },
  {
   "cell_type": "code",
   "execution_count": 1,
   "metadata": {},
   "outputs": [
    {
     "data": {
      "text/plain": [
       "[('milk', 'bread'),\n",
       " ('milk', 'eggs'),\n",
       " ('bread', 'milk'),\n",
       " ('bread', 'eggs'),\n",
       " ('eggs', 'milk'),\n",
       " ('eggs', 'bread')]"
      ]
     },
     "execution_count": 1,
     "metadata": {},
     "output_type": "execute_result"
    }
   ],
   "source": [
    "from itertools import permutations \n",
    "\n",
    "# items bought together\n",
    "items = ['milk', 'bread', 'eggs']\n",
    "\n",
    "# this code creates sets of 2 items from the itemset above\n",
    "list(permutations(items, 2)) "
   ]
  },
  {
   "cell_type": "markdown",
   "metadata": {},
   "source": [
    "### 2. Count the combinations of books reviewed together\n",
    "Create combinations with `permutations` and count how often each combination occurs. This process might be time-consuming, depending on your initial data exploration."
   ]
  },
  {
   "cell_type": "code",
   "execution_count": 2,
   "metadata": {},
   "outputs": [],
   "source": [
    "import pandas as pd\n",
    "\n",
    "df = pd.read_csv('data/BX-Book-Ratings-Subset.csv', sep=';', encoding='latin-1')\n",
    "\n",
    "from itertools import permutations \n",
    "\n",
    "def create_combinations(x):\n",
    "  combinations = pd.DataFrame(list(permutations(x.values, 2)), columns=['book_a','book_b'])    \n",
    "  return combinations\n",
    "\n",
    "# use the function to create combinations\n",
    "book_combinations = df.groupby('User-ID')['ISBN'].apply(create_combinations) \n",
    "\n",
    "book_combinations = book_combinations.reset_index(drop=True)\n",
    "\n",
    "# count the combinations\n",
    "combinations_counts = book_combinations.groupby(['book_a', 'book_b']).size()\n",
    "combinations_counts = combinations_counts.to_frame(name = 'count').reset_index()"
   ]
  },
  {
   "cell_type": "markdown",
   "metadata": {},
   "source": [
    "### 3. Save the recommendations\n",
    "Given the potential size of the output, limit the CSV file to include only the top 10 recommendations per book. Save this as `recommendations-seeded-freq.csv` and update the file in the app directory. Remember to enable the code block related to this step if it was previously commented out.\n"
   ]
  },
  {
   "cell_type": "code",
   "execution_count": 3,
   "metadata": {},
   "outputs": [],
   "source": [
    "combinations_counts = combinations_counts.sort_values('count', ascending=False)\n",
    "\n",
    "# only select top 10 per combination\n",
    "df1 = combinations_counts.sort_values('count', ascending = False).groupby('book_a').head(10)\n",
    "\n",
    "df1.to_csv('recommendations-seeded-freq.csv', index=False, sep=';')"
   ]
  }
 ],
 "metadata": {
  "interpreter": {
   "hash": "37c10f95d263926787ebf1d430d11186fc6b9bac835b8518e0b5006ed24f0c36"
  },
  "kernelspec": {
   "display_name": "Python 3.8.0 64-bit",
   "language": "python",
   "name": "python3"
  },
  "language_info": {
   "codemirror_mode": {
    "name": "ipython",
    "version": 3
   },
   "file_extension": ".py",
   "mimetype": "text/x-python",
   "name": "python",
   "nbconvert_exporter": "python",
   "pygments_lexer": "ipython3",
   "version": "3.12.1"
  },
  "orig_nbformat": 4
 },
 "nbformat": 4,
 "nbformat_minor": 2
}
